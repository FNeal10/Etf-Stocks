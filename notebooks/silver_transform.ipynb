{
 "cells": [
  {
   "cell_type": "code",
   "execution_count": 1,
   "id": "26afa26b",
   "metadata": {},
   "outputs": [],
   "source": [
    "import os\n",
    "import pandas as pd"
   ]
  },
  {
   "cell_type": "code",
   "execution_count": 2,
   "id": "6b01c49d",
   "metadata": {},
   "outputs": [],
   "source": [
    "from io import StringIO\n",
    "from dotenv import load_dotenv\n",
    "from azure.storage.blob import BlobServiceClient"
   ]
  },
  {
   "cell_type": "code",
   "execution_count": 14,
   "id": "01f3a89a",
   "metadata": {},
   "outputs": [],
   "source": [
    "service_client = BlobServiceClient.from_connection_string(os.getenv(\"AZURE_CONNECTION_STRING\"))\n",
    "blob_container = service_client.get_container_client(os.getenv(\"CONTAINER_NAME\"))"
   ]
  },
  {
   "cell_type": "code",
   "execution_count": 15,
   "id": "62dcf688",
   "metadata": {},
   "outputs": [],
   "source": [
    "def clean_and_add_features(df: pd.DataFrame, source: str):\n",
    "\n",
    "    df.insert(0, \"Source\", source)\n",
    "    df[\"Volume\"] = df[\"Volume\"].str.replace(',','').astype(int)\n",
    "    df[\"Date\"] = pd.to_datetime(df[\"Date\"], format='%m/%d/%Y')\n",
    "\n",
    "    # Dates\n",
    "    df[\"Month\"] = df[\"Date\"].dt.month\n",
    "    df[\"Day\"] = df[\"Date\"].dt.day\n",
    "    df[\"Year\"] = df[\"Date\"].dt.year\n",
    "    df[\"DayOfWeek\"] = df[\"Date\"].dt.dayofweek\n",
    "\n",
    "    df[\"MA_5\"] = df[\"Close\"].rolling(5).mean()\n",
    "    df[\"MA_20\"] = df[\"Close\"].rolling(20).mean()\n",
    "    df[\"EMA_5\"] = df[\"Close\"].ewm(span=5, adjust=False).mean()\n",
    "    df[\"EMA_20\"] = df[\"Close\"].ewm(span=20, adjust=False).mean()\n",
    "    df[\"STD_5\"] = df[\"Close\"].rolling(5).mean()\n",
    "    df[\"STD_20\"] = df[\"Close\"].rolling(20).mean()\n",
    "\n",
    "    df[\"DailyReturn\"] = df[\"Close\"].pct_change()\n",
    "    df[\"Volatility\"] = df[\"DailyReturn\"].rolling(20).std()\n",
    "    df[\"PriceChange\"] = df[\"Close\"] - df[\"Open\"]\n",
    " \n",
    "    return df"
   ]
  },
  {
   "cell_type": "code",
   "execution_count": 31,
   "id": "0af2f07c",
   "metadata": {},
   "outputs": [],
   "source": [
    "def upload_silver_to_blob(df, containerName, blobName):\n",
    "    csv_buffer = StringIO()\n",
    "    df.to_csv(csv_buffer, index=False)\n",
    "    csv_buffer.seek(0)\n",
    "\n",
    "    #blob_service_client = BlobServiceClient.from_connection_string(os.getenv(\"AZURE_CONNECTION_STRING\"))\n",
    "    blob_client = service_client.get_blob_client(container=containerName, blob=blobName)\n",
    "\n",
    "    blob_client.upload_blob(csv_buffer.getvalue(), overwrite=True)\n"
   ]
  },
  {
   "cell_type": "code",
   "execution_count": null,
   "id": "a60e4d79",
   "metadata": {},
   "outputs": [],
   "source": [
    "def main():\n",
    "    load_dotenv()\n",
    "\n",
    "    serviceClient = BlobServiceClient.from_connection_string(os.getenv(\"AZURE_CONNECTION_STRING\"))\n",
    "    blobContainer = service_client.get_container_client(os.getenv(\"CONTAINER_NAME\"))\n",
    "\n",
    "    bronzeLocation = os.getenv(\"BRONZE_LOCATION\")\n",
    "    silverFileOutput = os.getenv(\"SILVER_OUTPUT\")\n",
    "\n",
    "    for blob in blob_container.list_blobs(name_starts_with=f\"{bronzeLocation}*.csv\"):\n",
    "        blob_client = blob_container.get_blob_client(blob.name)\n",
    "        content = blob_client.download_blob().readall().decode('utf-8')\n",
    "\n",
    "        file = pd.read_csv(StringIO(content))\n",
    "        final = clean_and_add_features(file, os.path.basename(blob.name).replace('.csv',''))\n",
    "\n",
    "\n",
    "    upload_silver_to_blob(final, blob_container, f\"{silverFileOutput}silver_output.csv\")"
   ]
  },
  {
   "cell_type": "code",
   "execution_count": 30,
   "id": "ecab1d64",
   "metadata": {},
   "outputs": [
    {
     "ename": "TypeError",
     "evalue": "quote_from_bytes() expected bytes",
     "output_type": "error",
     "traceback": [
      "\u001b[31m---------------------------------------------------------------------------\u001b[39m",
      "\u001b[31mTypeError\u001b[39m                                 Traceback (most recent call last)",
      "\u001b[36mCell\u001b[39m\u001b[36m \u001b[39m\u001b[32mIn[30]\u001b[39m\u001b[32m, line 2\u001b[39m\n\u001b[32m      1\u001b[39m \u001b[38;5;28;01mif\u001b[39;00m \u001b[34m__name__\u001b[39m == \u001b[33m\"\u001b[39m\u001b[33m__main__\u001b[39m\u001b[33m\"\u001b[39m:\n\u001b[32m----> \u001b[39m\u001b[32m2\u001b[39m     \u001b[43mmain\u001b[49m\u001b[43m(\u001b[49m\u001b[43m)\u001b[49m\n",
      "\u001b[36mCell\u001b[39m\u001b[36m \u001b[39m\u001b[32mIn[29]\u001b[39m\u001b[32m, line 16\u001b[39m, in \u001b[36mmain\u001b[39m\u001b[34m()\u001b[39m\n\u001b[32m     12\u001b[39m         file = pd.read_csv(StringIO(content))\n\u001b[32m     13\u001b[39m         final = clean_and_add_features(file, os.path.basename(blob.name).replace(\u001b[33m'\u001b[39m\u001b[33m.csv\u001b[39m\u001b[33m'\u001b[39m,\u001b[33m'\u001b[39m\u001b[33m'\u001b[39m))\n\u001b[32m---> \u001b[39m\u001b[32m16\u001b[39m \u001b[43msave_silver\u001b[49m\u001b[43m(\u001b[49m\u001b[43mfinal\u001b[49m\u001b[43m,\u001b[49m\u001b[43m \u001b[49m\u001b[43mblob_container\u001b[49m\u001b[43m,\u001b[49m\u001b[43m \u001b[49m\u001b[33;43m\"\u001b[39;49m\u001b[33;43msilver/etf/silver_output.csv\u001b[39;49m\u001b[33;43m\"\u001b[39;49m\u001b[43m)\u001b[49m\n",
      "\u001b[36mCell\u001b[39m\u001b[36m \u001b[39m\u001b[32mIn[27]\u001b[39m\u001b[32m, line 7\u001b[39m, in \u001b[36msave_silver\u001b[39m\u001b[34m(df, containerName, blobName)\u001b[39m\n\u001b[32m      4\u001b[39m csv_buffer.seek(\u001b[32m0\u001b[39m)\n\u001b[32m      6\u001b[39m \u001b[38;5;66;03m#blob_service_client = BlobServiceClient.from_connection_string(os.getenv(\"AZURE_CONNECTION_STRING\"))\u001b[39;00m\n\u001b[32m----> \u001b[39m\u001b[32m7\u001b[39m blob_client = \u001b[43mservice_client\u001b[49m\u001b[43m.\u001b[49m\u001b[43mget_blob_client\u001b[49m\u001b[43m(\u001b[49m\u001b[43mcontainer\u001b[49m\u001b[43m=\u001b[49m\u001b[43mcontainerName\u001b[49m\u001b[43m,\u001b[49m\u001b[43m \u001b[49m\u001b[43mblob\u001b[49m\u001b[43m=\u001b[49m\u001b[43mblobName\u001b[49m\u001b[43m)\u001b[49m\n\u001b[32m      9\u001b[39m blob_client.upload_blob(csv_buffer.getvalue(), overwrite=\u001b[38;5;28;01mTrue\u001b[39;00m)\n",
      "\u001b[36mFile \u001b[39m\u001b[32mc:\\Users\\faltares\\Documents\\DEV\\etf-stocks\\venv\\Lib\\site-packages\\azure\\storage\\blob\\_blob_service_client.py:782\u001b[39m, in \u001b[36mBlobServiceClient.get_blob_client\u001b[39m\u001b[34m(self, container, blob, snapshot, version_id)\u001b[39m\n\u001b[32m    777\u001b[39m     container_name = container\n\u001b[32m    778\u001b[39m _pipeline = Pipeline(\n\u001b[32m    779\u001b[39m     transport=TransportWrapper(\u001b[38;5;28mself\u001b[39m._pipeline._transport), \u001b[38;5;66;03m# pylint: disable = protected-access\u001b[39;00m\n\u001b[32m    780\u001b[39m     policies=\u001b[38;5;28mself\u001b[39m._pipeline._impl_policies \u001b[38;5;66;03m# pylint: disable = protected-access\u001b[39;00m\n\u001b[32m    781\u001b[39m )\n\u001b[32m--> \u001b[39m\u001b[32m782\u001b[39m \u001b[38;5;28;01mreturn\u001b[39;00m \u001b[43mBlobClient\u001b[49m\u001b[43m(\u001b[49m\n\u001b[32m    783\u001b[39m \u001b[43m    \u001b[49m\u001b[38;5;28;43mself\u001b[39;49m\u001b[43m.\u001b[49m\u001b[43murl\u001b[49m\u001b[43m,\u001b[49m\u001b[43m \u001b[49m\u001b[43mcontainer_name\u001b[49m\u001b[43m=\u001b[49m\u001b[43mcontainer_name\u001b[49m\u001b[43m,\u001b[49m\u001b[43m \u001b[49m\u001b[43mblob_name\u001b[49m\u001b[43m=\u001b[49m\u001b[43mblob_name\u001b[49m\u001b[43m,\u001b[49m\u001b[43m \u001b[49m\u001b[43msnapshot\u001b[49m\u001b[43m=\u001b[49m\u001b[43msnapshot\u001b[49m\u001b[43m,\u001b[49m\n\u001b[32m    784\u001b[39m \u001b[43m    \u001b[49m\u001b[43mcredential\u001b[49m\u001b[43m=\u001b[49m\u001b[38;5;28;43mself\u001b[39;49m\u001b[43m.\u001b[49m\u001b[43mcredential\u001b[49m\u001b[43m,\u001b[49m\u001b[43m \u001b[49m\u001b[43mapi_version\u001b[49m\u001b[43m=\u001b[49m\u001b[38;5;28;43mself\u001b[39;49m\u001b[43m.\u001b[49m\u001b[43mapi_version\u001b[49m\u001b[43m,\u001b[49m\u001b[43m \u001b[49m\u001b[43m_configuration\u001b[49m\u001b[43m=\u001b[49m\u001b[38;5;28;43mself\u001b[39;49m\u001b[43m.\u001b[49m\u001b[43m_config\u001b[49m\u001b[43m,\u001b[49m\n\u001b[32m    785\u001b[39m \u001b[43m    \u001b[49m\u001b[43m_pipeline\u001b[49m\u001b[43m=\u001b[49m\u001b[43m_pipeline\u001b[49m\u001b[43m,\u001b[49m\u001b[43m \u001b[49m\u001b[43m_location_mode\u001b[49m\u001b[43m=\u001b[49m\u001b[38;5;28;43mself\u001b[39;49m\u001b[43m.\u001b[49m\u001b[43m_location_mode\u001b[49m\u001b[43m,\u001b[49m\u001b[43m \u001b[49m\u001b[43m_hosts\u001b[49m\u001b[43m=\u001b[49m\u001b[38;5;28;43mself\u001b[39;49m\u001b[43m.\u001b[49m\u001b[43m_hosts\u001b[49m\u001b[43m,\u001b[49m\n\u001b[32m    786\u001b[39m \u001b[43m    \u001b[49m\u001b[43mrequire_encryption\u001b[49m\u001b[43m=\u001b[49m\u001b[38;5;28;43mself\u001b[39;49m\u001b[43m.\u001b[49m\u001b[43mrequire_encryption\u001b[49m\u001b[43m,\u001b[49m\u001b[43m \u001b[49m\u001b[43mencryption_version\u001b[49m\u001b[43m=\u001b[49m\u001b[38;5;28;43mself\u001b[39;49m\u001b[43m.\u001b[49m\u001b[43mencryption_version\u001b[49m\u001b[43m,\u001b[49m\n\u001b[32m    787\u001b[39m \u001b[43m    \u001b[49m\u001b[43mkey_encryption_key\u001b[49m\u001b[43m=\u001b[49m\u001b[38;5;28;43mself\u001b[39;49m\u001b[43m.\u001b[49m\u001b[43mkey_encryption_key\u001b[49m\u001b[43m,\u001b[49m\u001b[43m \u001b[49m\u001b[43mkey_resolver_function\u001b[49m\u001b[43m=\u001b[49m\u001b[38;5;28;43mself\u001b[39;49m\u001b[43m.\u001b[49m\u001b[43mkey_resolver_function\u001b[49m\u001b[43m,\u001b[49m\n\u001b[32m    788\u001b[39m \u001b[43m    \u001b[49m\u001b[43mversion_id\u001b[49m\u001b[43m=\u001b[49m\u001b[43mversion_id\u001b[49m\u001b[43m)\u001b[49m\n",
      "\u001b[36mFile \u001b[39m\u001b[32mc:\\Users\\faltares\\Documents\\DEV\\etf-stocks\\venv\\Lib\\site-packages\\azure\\storage\\blob\\_blob_client.py:189\u001b[39m, in \u001b[36mBlobClient.__init__\u001b[39m\u001b[34m(self, account_url, container_name, blob_name, snapshot, credential, **kwargs)\u001b[39m\n\u001b[32m    187\u001b[39m \u001b[38;5;28mself\u001b[39m._query_str, credential = \u001b[38;5;28mself\u001b[39m._format_query_string(sas_token, credential, snapshot=\u001b[38;5;28mself\u001b[39m.snapshot)\n\u001b[32m    188\u001b[39m \u001b[38;5;28msuper\u001b[39m(BlobClient, \u001b[38;5;28mself\u001b[39m).\u001b[34m__init__\u001b[39m(parsed_url, service=\u001b[33m'\u001b[39m\u001b[33mblob\u001b[39m\u001b[33m'\u001b[39m, credential=credential, **kwargs)\n\u001b[32m--> \u001b[39m\u001b[32m189\u001b[39m \u001b[38;5;28mself\u001b[39m._client = AzureBlobStorage(\u001b[38;5;28;43mself\u001b[39;49m\u001b[43m.\u001b[49m\u001b[43murl\u001b[49m, base_url=\u001b[38;5;28mself\u001b[39m.url, pipeline=\u001b[38;5;28mself\u001b[39m._pipeline)\n\u001b[32m    190\u001b[39m \u001b[38;5;28mself\u001b[39m._client._config.version = get_api_version(kwargs)  \u001b[38;5;66;03m# type: ignore [assignment]\u001b[39;00m\n\u001b[32m    191\u001b[39m \u001b[38;5;28mself\u001b[39m._configure_encryption(kwargs)\n",
      "\u001b[36mFile \u001b[39m\u001b[32mc:\\Users\\faltares\\Documents\\DEV\\etf-stocks\\venv\\Lib\\site-packages\\azure\\storage\\blob\\_shared\\base_client.py:137\u001b[39m, in \u001b[36mStorageAccountHostsMixin.url\u001b[39m\u001b[34m(self)\u001b[39m\n\u001b[32m    128\u001b[39m \u001b[38;5;129m@property\u001b[39m\n\u001b[32m    129\u001b[39m \u001b[38;5;28;01mdef\u001b[39;00m\u001b[38;5;250m \u001b[39m\u001b[34murl\u001b[39m(\u001b[38;5;28mself\u001b[39m):\n\u001b[32m    130\u001b[39m \u001b[38;5;250m    \u001b[39m\u001b[33;03m\"\"\"The full endpoint URL to this entity, including SAS token if used.\u001b[39;00m\n\u001b[32m    131\u001b[39m \n\u001b[32m    132\u001b[39m \u001b[33;03m    This could be either the primary endpoint,\u001b[39;00m\n\u001b[32m   (...)\u001b[39m\u001b[32m    135\u001b[39m \u001b[33;03m    :rtype: str\u001b[39;00m\n\u001b[32m    136\u001b[39m \u001b[33;03m    \"\"\"\u001b[39;00m\n\u001b[32m--> \u001b[39m\u001b[32m137\u001b[39m     \u001b[38;5;28;01mreturn\u001b[39;00m \u001b[38;5;28;43mself\u001b[39;49m\u001b[43m.\u001b[49m\u001b[43m_format_url\u001b[49m\u001b[43m(\u001b[49m\u001b[38;5;28;43mself\u001b[39;49m\u001b[43m.\u001b[49m\u001b[43m_hosts\u001b[49m\u001b[43m[\u001b[49m\u001b[38;5;28;43mself\u001b[39;49m\u001b[43m.\u001b[49m\u001b[43m_location_mode\u001b[49m\u001b[43m]\u001b[49m\u001b[43m)\u001b[49m\n",
      "\u001b[36mFile \u001b[39m\u001b[32mc:\\Users\\faltares\\Documents\\DEV\\etf-stocks\\venv\\Lib\\site-packages\\azure\\storage\\blob\\_blob_client.py:194\u001b[39m, in \u001b[36mBlobClient._format_url\u001b[39m\u001b[34m(self, hostname)\u001b[39m\n\u001b[32m    193\u001b[39m \u001b[38;5;28;01mdef\u001b[39;00m\u001b[38;5;250m \u001b[39m\u001b[34m_format_url\u001b[39m(\u001b[38;5;28mself\u001b[39m, hostname: \u001b[38;5;28mstr\u001b[39m) -> \u001b[38;5;28mstr\u001b[39m:\n\u001b[32m--> \u001b[39m\u001b[32m194\u001b[39m     \u001b[38;5;28;01mreturn\u001b[39;00m \u001b[43m_format_url\u001b[49m\u001b[43m(\u001b[49m\n\u001b[32m    195\u001b[39m \u001b[43m        \u001b[49m\u001b[43mcontainer_name\u001b[49m\u001b[43m=\u001b[49m\u001b[38;5;28;43mself\u001b[39;49m\u001b[43m.\u001b[49m\u001b[43mcontainer_name\u001b[49m\u001b[43m,\u001b[49m\n\u001b[32m    196\u001b[39m \u001b[43m        \u001b[49m\u001b[43mscheme\u001b[49m\u001b[43m=\u001b[49m\u001b[38;5;28;43mself\u001b[39;49m\u001b[43m.\u001b[49m\u001b[43mscheme\u001b[49m\u001b[43m,\u001b[49m\n\u001b[32m    197\u001b[39m \u001b[43m        \u001b[49m\u001b[43mblob_name\u001b[49m\u001b[43m=\u001b[49m\u001b[38;5;28;43mself\u001b[39;49m\u001b[43m.\u001b[49m\u001b[43mblob_name\u001b[49m\u001b[43m,\u001b[49m\n\u001b[32m    198\u001b[39m \u001b[43m        \u001b[49m\u001b[43mquery_str\u001b[49m\u001b[43m=\u001b[49m\u001b[38;5;28;43mself\u001b[39;49m\u001b[43m.\u001b[49m\u001b[43m_query_str\u001b[49m\u001b[43m,\u001b[49m\n\u001b[32m    199\u001b[39m \u001b[43m        \u001b[49m\u001b[43mhostname\u001b[49m\u001b[43m=\u001b[49m\u001b[43mhostname\u001b[49m\n\u001b[32m    200\u001b[39m \u001b[43m    \u001b[49m\u001b[43m)\u001b[49m\n",
      "\u001b[36mFile \u001b[39m\u001b[32mc:\\Users\\faltares\\Documents\\DEV\\etf-stocks\\venv\\Lib\\site-packages\\azure\\storage\\blob\\_blob_client_helpers.py:90\u001b[39m, in \u001b[36m_format_url\u001b[39m\u001b[34m(container_name, scheme, blob_name, query_str, hostname)\u001b[39m\n\u001b[32m     88\u001b[39m \u001b[38;5;28;01mif\u001b[39;00m \u001b[38;5;28misinstance\u001b[39m(container_name, \u001b[38;5;28mstr\u001b[39m):\n\u001b[32m     89\u001b[39m     container_name = container_name.encode(\u001b[33m'\u001b[39m\u001b[33mUTF-8\u001b[39m\u001b[33m'\u001b[39m)\n\u001b[32m---> \u001b[39m\u001b[32m90\u001b[39m \u001b[38;5;28;01mreturn\u001b[39;00m \u001b[33mf\u001b[39m\u001b[33m\"\u001b[39m\u001b[38;5;132;01m{\u001b[39;00mscheme\u001b[38;5;132;01m}\u001b[39;00m\u001b[33m://\u001b[39m\u001b[38;5;132;01m{\u001b[39;00mhostname\u001b[38;5;132;01m}\u001b[39;00m\u001b[33m/\u001b[39m\u001b[38;5;132;01m{\u001b[39;00m\u001b[43mquote\u001b[49m\u001b[43m(\u001b[49m\u001b[43mcontainer_name\u001b[49m\u001b[43m)\u001b[49m\u001b[38;5;132;01m}\u001b[39;00m\u001b[33m/\u001b[39m\u001b[38;5;132;01m{\u001b[39;00mquote(blob_name,\u001b[38;5;250m \u001b[39msafe=\u001b[33m'\u001b[39m\u001b[33m~/\u001b[39m\u001b[33m'\u001b[39m)\u001b[38;5;132;01m}\u001b[39;00m\u001b[38;5;132;01m{\u001b[39;00mquery_str\u001b[38;5;132;01m}\u001b[39;00m\u001b[33m\"\u001b[39m\n",
      "\u001b[36mFile \u001b[39m\u001b[32mC:\\Program Files\\WindowsApps\\PythonSoftwareFoundation.Python.3.11_3.11.2544.0_x64__qbz5n2kfra8p0\\Lib\\urllib\\parse.py:899\u001b[39m, in \u001b[36mquote\u001b[39m\u001b[34m(string, safe, encoding, errors)\u001b[39m\n\u001b[32m    897\u001b[39m     \u001b[38;5;28;01mif\u001b[39;00m errors \u001b[38;5;129;01mis\u001b[39;00m \u001b[38;5;129;01mnot\u001b[39;00m \u001b[38;5;28;01mNone\u001b[39;00m:\n\u001b[32m    898\u001b[39m         \u001b[38;5;28;01mraise\u001b[39;00m \u001b[38;5;167;01mTypeError\u001b[39;00m(\u001b[33m\"\u001b[39m\u001b[33mquote() doesn\u001b[39m\u001b[33m'\u001b[39m\u001b[33mt support \u001b[39m\u001b[33m'\u001b[39m\u001b[33merrors\u001b[39m\u001b[33m'\u001b[39m\u001b[33m for bytes\u001b[39m\u001b[33m\"\u001b[39m)\n\u001b[32m--> \u001b[39m\u001b[32m899\u001b[39m \u001b[38;5;28;01mreturn\u001b[39;00m \u001b[43mquote_from_bytes\u001b[49m\u001b[43m(\u001b[49m\u001b[43mstring\u001b[49m\u001b[43m,\u001b[49m\u001b[43m \u001b[49m\u001b[43msafe\u001b[49m\u001b[43m)\u001b[49m\n",
      "\u001b[36mFile \u001b[39m\u001b[32mC:\\Program Files\\WindowsApps\\PythonSoftwareFoundation.Python.3.11_3.11.2544.0_x64__qbz5n2kfra8p0\\Lib\\urllib\\parse.py:929\u001b[39m, in \u001b[36mquote_from_bytes\u001b[39m\u001b[34m(bs, safe)\u001b[39m\n\u001b[32m    924\u001b[39m \u001b[38;5;250m\u001b[39m\u001b[33;03m\"\"\"Like quote(), but accepts a bytes object rather than a str, and does\u001b[39;00m\n\u001b[32m    925\u001b[39m \u001b[33;03mnot perform string-to-bytes encoding.  It always returns an ASCII string.\u001b[39;00m\n\u001b[32m    926\u001b[39m \u001b[33;03mquote_from_bytes(b'abc def\\x3f') -> 'abc%20def%3f'\u001b[39;00m\n\u001b[32m    927\u001b[39m \u001b[33;03m\"\"\"\u001b[39;00m\n\u001b[32m    928\u001b[39m \u001b[38;5;28;01mif\u001b[39;00m \u001b[38;5;129;01mnot\u001b[39;00m \u001b[38;5;28misinstance\u001b[39m(bs, (\u001b[38;5;28mbytes\u001b[39m, \u001b[38;5;28mbytearray\u001b[39m)):\n\u001b[32m--> \u001b[39m\u001b[32m929\u001b[39m     \u001b[38;5;28;01mraise\u001b[39;00m \u001b[38;5;167;01mTypeError\u001b[39;00m(\u001b[33m\"\u001b[39m\u001b[33mquote_from_bytes() expected bytes\u001b[39m\u001b[33m\"\u001b[39m)\n\u001b[32m    930\u001b[39m \u001b[38;5;28;01mif\u001b[39;00m \u001b[38;5;129;01mnot\u001b[39;00m bs:\n\u001b[32m    931\u001b[39m     \u001b[38;5;28;01mreturn\u001b[39;00m \u001b[33m'\u001b[39m\u001b[33m'\u001b[39m\n",
      "\u001b[31mTypeError\u001b[39m: quote_from_bytes() expected bytes"
     ]
    }
   ],
   "source": [
    "if __name__ == \"__main__\":\n",
    "    main()"
   ]
  },
  {
   "cell_type": "code",
   "execution_count": null,
   "id": "b52493e8",
   "metadata": {},
   "outputs": [],
   "source": []
  }
 ],
 "metadata": {
  "kernelspec": {
   "display_name": "venv",
   "language": "python",
   "name": "python3"
  },
  "language_info": {
   "codemirror_mode": {
    "name": "ipython",
    "version": 3
   },
   "file_extension": ".py",
   "mimetype": "text/x-python",
   "name": "python",
   "nbconvert_exporter": "python",
   "pygments_lexer": "ipython3",
   "version": "3.11.9"
  }
 },
 "nbformat": 4,
 "nbformat_minor": 5
}
