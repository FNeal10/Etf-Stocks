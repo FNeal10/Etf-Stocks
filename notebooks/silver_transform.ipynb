{
 "cells": [
  {
   "cell_type": "code",
   "execution_count": 1,
   "id": "26afa26b",
   "metadata": {},
   "outputs": [],
   "source": [
    "import os\n",
    "import sys\n",
    "import pandas as pd"
   ]
  },
  {
   "cell_type": "code",
   "execution_count": 2,
   "id": "40c68221",
   "metadata": {},
   "outputs": [],
   "source": [
    "# Add project root to sys.path (adjust as needed)\n",
    "project_root = os.path.abspath(os.path.join(os.getcwd(), \"..\"))  # go up one directory\n",
    "sys.path.append(project_root)"
   ]
  },
  {
   "cell_type": "code",
   "execution_count": 3,
   "id": "6b01c49d",
   "metadata": {},
   "outputs": [],
   "source": [
    "from io import StringIO\n",
    "from dotenv import load_dotenv\n",
    "from azure.storage.blob import BlobServiceClient\n",
    "\n",
    "from src.utils.helper import format_to_decimal, check_or_create_logfile, append_to_log"
   ]
  },
  {
   "cell_type": "code",
   "execution_count": 27,
   "id": "01f3a89a",
   "metadata": {},
   "outputs": [],
   "source": [
    "service_client = BlobServiceClient.from_connection_string(os.getenv(\"AZURE_CONNECTION_STRING\"))\n",
    "blob_container = service_client.get_container_client(os.getenv(\"CONTAINER_NAME\"))"
   ]
  },
  {
   "cell_type": "code",
   "execution_count": 62,
   "id": "62dcf688",
   "metadata": {},
   "outputs": [],
   "source": [
    "def clean_and_add_features(df: pd.DataFrame, source: str):\n",
    "\n",
    "    df.insert(0, \"Source\", source)\n",
    "    df[\"Volume\"] = df[\"Volume\"].str.replace(',','').replace(\"'\",\"\").replace(\".\",\"\").astype(int)\n",
    "    df[\"Date\"] = pd.to_datetime(df[\"Date\"], format='%m/%d/%Y')\n",
    "    \n",
    "    df[\"Open\"] = df[\"Open\"].apply(format_to_decimal).astype(float)\n",
    "    df[\"High\"] = df[\"High\"].apply(format_to_decimal).astype(float)\n",
    "    df[\"Close\"] = df[\"Close\"].apply(format_to_decimal).astype(float)\n",
    "    df[\"Low\"] = df[\"Low\"].apply(format_to_decimal).astype(float)\n",
    "\n",
    "    # Dates\n",
    "    df[\"Month\"] = df[\"Date\"].dt.month\n",
    "    df[\"Day\"] = df[\"Date\"].dt.day\n",
    "    df[\"Year\"] = df[\"Date\"].dt.year\n",
    "    df[\"DayOfWeek\"] = df[\"Date\"].dt.dayofweek\n",
    "\n",
    "    df[\"MA_5\"] = df[\"Close\"].rolling(5).mean().apply(format_to_decimal)\n",
    "    df[\"MA_20\"] = df[\"Close\"].rolling(20).mean().apply(format_to_decimal)\n",
    "    df[\"EMA_5\"] = df[\"Close\"].ewm(span=5, adjust=False).mean().apply(format_to_decimal)\n",
    "    df[\"EMA_20\"] = df[\"Close\"].ewm(span=20, adjust=False).mean().apply(format_to_decimal)\n",
    "    df[\"STD_5\"] = df[\"Close\"].rolling(5).mean().apply(format_to_decimal)\n",
    "    df[\"STD_20\"] = df[\"Close\"].rolling(20).mean().apply(format_to_decimal)\n",
    "\n",
    "    df[\"DailyReturn\"] = df[\"Close\"].pct_change().apply(format_to_decimal)\n",
    "    df[\"Volatility\"] = df[\"DailyReturn\"].rolling(20).std().apply(format_to_decimal)\n",
    "    df[\"PriceChange\"] = (df[\"Close\"] - df[\"Open\"]).apply(format_to_decimal)\n",
    " \n",
    "    return df"
   ]
  },
  {
   "cell_type": "code",
   "execution_count": 63,
   "id": "0af2f07c",
   "metadata": {},
   "outputs": [],
   "source": [
    "def upload_silver_to_blob(df, serviceClient, containerName, blobName):\n",
    "    csv_buffer = StringIO()\n",
    "    df.to_csv(csv_buffer, index=False)\n",
    "    csv_buffer.seek(0)\n",
    "\n",
    "    #blob_service_client = BlobServiceClient.from_connection_string(os.getenv(\"AZURE_CONNECTION_STRING\"))\n",
    "    blob_client = serviceClient.get_blob_client(container=containerName, blob=blobName)\n",
    "\n",
    "    blob_client.upload_blob(csv_buffer.getvalue(), overwrite=True)\n"
   ]
  },
  {
   "cell_type": "code",
   "execution_count": null,
   "id": "a60e4d79",
   "metadata": {},
   "outputs": [],
   "source": [
    "def main():\n",
    "    \n",
    "    load_dotenv()\n",
    "    combined_df = pd.DataFrame()\n",
    "    serviceClient = BlobServiceClient.from_connection_string(os.getenv(\"AZURE_CONNECTION_STRING\"))\n",
    "    blobContainer = serviceClient.get_container_client(os.getenv(\"CONTAINER_NAME\"))\n",
    "\n",
    "    bronzeLocation = os.getenv(\"BRONZE_LOCATION\")\n",
    "    silverFileOutput = os.getenv(\"SILVER_OUTPUT\")\n",
    "    print(bronzeLocation)\n",
    "    for blob in blob_container.list_blobs(name_starts_with=f\"{bronzeLocation}\"):\n",
    "        print(blob.name)\n",
    "        blob_client = blobContainer.get_blob_client(blob.name)\n",
    "        content = blob_client.download_blob().readall().decode('utf-8')\n",
    "\n",
    "        file = pd.read_csv(StringIO(content))\n",
    "        final = clean_and_add_features(file, os.path.basename(blob.name).replace('.csv',''))\n",
    "\n",
    "        combined_df = pd.concat([combined_df, final], ignore_index=True)\n",
    "        #upload_silver_to_blob(final, serviceClient, blobContainer, f\"{silverFileOutput}silver_output.csv\")\n",
    "    return combined_df"
   ]
  },
  {
   "cell_type": "code",
   "execution_count": 4,
   "id": "3e60b60e",
   "metadata": {},
   "outputs": [],
   "source": [
    "check_or_create_logfile()"
   ]
  },
  {
   "cell_type": "code",
   "execution_count": 6,
   "id": "ed488fb1",
   "metadata": {},
   "outputs": [],
   "source": [
    "append_to_log(\"Starting silver transformation process.\")"
   ]
  },
  {
   "cell_type": "code",
   "execution_count": null,
   "id": "f5ee142f",
   "metadata": {},
   "outputs": [],
   "source": []
  }
 ],
 "metadata": {
  "kernelspec": {
   "display_name": "venv",
   "language": "python",
   "name": "python3"
  },
  "language_info": {
   "codemirror_mode": {
    "name": "ipython",
    "version": 3
   },
   "file_extension": ".py",
   "mimetype": "text/x-python",
   "name": "python",
   "nbconvert_exporter": "python",
   "pygments_lexer": "ipython3",
   "version": "3.11.9"
  }
 },
 "nbformat": 4,
 "nbformat_minor": 5
}
