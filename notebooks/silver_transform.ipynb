{
 "cells": [
  {
   "cell_type": "code",
   "execution_count": 1,
   "id": "26afa26b",
   "metadata": {},
   "outputs": [],
   "source": [
    "import os\n",
    "import pandas as pd"
   ]
  },
  {
   "cell_type": "code",
   "execution_count": 22,
   "id": "6b01c49d",
   "metadata": {},
   "outputs": [
    {
     "ename": "ModuleNotFoundError",
     "evalue": "No module named 'src'",
     "output_type": "error",
     "traceback": [
      "\u001b[31m---------------------------------------------------------------------------\u001b[39m",
      "\u001b[31mModuleNotFoundError\u001b[39m                       Traceback (most recent call last)",
      "\u001b[36mCell\u001b[39m\u001b[36m \u001b[39m\u001b[32mIn[22]\u001b[39m\u001b[32m, line 5\u001b[39m\n\u001b[32m      2\u001b[39m \u001b[38;5;28;01mfrom\u001b[39;00m\u001b[38;5;250m \u001b[39m\u001b[34;01mdotenv\u001b[39;00m\u001b[38;5;250m \u001b[39m\u001b[38;5;28;01mimport\u001b[39;00m load_dotenv\n\u001b[32m      3\u001b[39m \u001b[38;5;28;01mfrom\u001b[39;00m\u001b[38;5;250m \u001b[39m\u001b[34;01mazure\u001b[39;00m\u001b[34;01m.\u001b[39;00m\u001b[34;01mstorage\u001b[39;00m\u001b[34;01m.\u001b[39;00m\u001b[34;01mblob\u001b[39;00m\u001b[38;5;250m \u001b[39m\u001b[38;5;28;01mimport\u001b[39;00m BlobServiceClient\n\u001b[32m----> \u001b[39m\u001b[32m5\u001b[39m \u001b[38;5;28;01mfrom\u001b[39;00m\u001b[38;5;250m \u001b[39m\u001b[34;01msrc\u001b[39;00m\u001b[34;01m.\u001b[39;00m\u001b[34;01mutils\u001b[39;00m\u001b[34;01m.\u001b[39;00m\u001b[34;01mcleaning\u001b[39;00m\u001b[38;5;250m \u001b[39m\u001b[38;5;28;01mimport\u001b[39;00m format_to_decimal\n",
      "\u001b[31mModuleNotFoundError\u001b[39m: No module named 'src'"
     ]
    }
   ],
   "source": [
    "from io import StringIO\n",
    "from dotenv import load_dotenv\n",
    "from azure.storage.blob import BlobServiceClient\n",
    "\n",
    "from src.utils.cleaning import format_to_decimal"
   ]
  },
  {
   "cell_type": "code",
   "execution_count": 3,
   "id": "01f3a89a",
   "metadata": {},
   "outputs": [],
   "source": [
    "service_client = BlobServiceClient.from_connection_string(os.getenv(\"AZURE_CONNECTION_STRING\"))\n",
    "blob_container = service_client.get_container_client(os.getenv(\"CONTAINER_NAME\"))"
   ]
  },
  {
   "cell_type": "code",
   "execution_count": 18,
   "id": "62dcf688",
   "metadata": {},
   "outputs": [],
   "source": [
    "def clean_and_add_features(df: pd.DataFrame, source: str):\n",
    "\n",
    "    df.insert(0, \"Source\", source)\n",
    "    df[\"Volume\"] = df[\"Volume\"].str.replace(',','').replace(\"'\",\"\").replace(\".\",\"\").astype(int)\n",
    "    df[\"Date\"] = pd.to_datetime(df[\"Date\"], format='%m/%d/%Y')\n",
    "    \n",
    "    df[\"Open\"] = df[\"Open\"].apply(format_to_decimal)\n",
    "    df[\"High\"] = df[\"High\"].apply(format_to_decimal)\n",
    "    df[\"Close\"] = df[\"Close\"].apply(format_to_decimal)\n",
    "    df[\"Low\"] = df[\"Low\"].apply(format_to_decimal)\n",
    "\n",
    "    # Dates\n",
    "    df[\"Month\"] = df[\"Date\"].dt.month\n",
    "    df[\"Day\"] = df[\"Date\"].dt.day\n",
    "    df[\"Year\"] = df[\"Date\"].dt.year\n",
    "    df[\"DayOfWeek\"] = df[\"Date\"].dt.dayofweek\n",
    "\n",
    "    df[\"MA_5\"] = df[\"Close\"].rolling(5).mean()\n",
    "    df[\"MA_20\"] = df[\"Close\"].rolling(20).mean()\n",
    "    df[\"EMA_5\"] = df[\"Close\"].ewm(span=5, adjust=False).mean()\n",
    "    df[\"EMA_20\"] = df[\"Close\"].ewm(span=20, adjust=False).mean()\n",
    "    df[\"STD_5\"] = df[\"Close\"].rolling(5).mean()\n",
    "    df[\"STD_20\"] = df[\"Close\"].rolling(20).mean()\n",
    "\n",
    "    df[\"DailyReturn\"] = df[\"Close\"].pct_change()\n",
    "    df[\"Volatility\"] = df[\"DailyReturn\"].rolling(20).std()\n",
    "    df[\"PriceChange\"] = df[\"Close\"] - df[\"Open\"]\n",
    " \n",
    "    return df"
   ]
  },
  {
   "cell_type": "code",
   "execution_count": 19,
   "id": "0af2f07c",
   "metadata": {},
   "outputs": [],
   "source": [
    "def upload_silver_to_blob(df, serviceClient, containerName, blobName):\n",
    "    csv_buffer = StringIO()\n",
    "    df.to_csv(csv_buffer, index=False)\n",
    "    csv_buffer.seek(0)\n",
    "\n",
    "    #blob_service_client = BlobServiceClient.from_connection_string(os.getenv(\"AZURE_CONNECTION_STRING\"))\n",
    "    blob_client = serviceClient.get_blob_client(container=containerName, blob=blobName)\n",
    "\n",
    "    blob_client.upload_blob(csv_buffer.getvalue(), overwrite=True)\n"
   ]
  },
  {
   "cell_type": "code",
   "execution_count": 20,
   "id": "a60e4d79",
   "metadata": {},
   "outputs": [],
   "source": [
    "def main():\n",
    "    print(\"Starting main...\")\n",
    "    load_dotenv()\n",
    "\n",
    "    serviceClient = BlobServiceClient.from_connection_string(os.getenv(\"AZURE_CONNECTION_STRING\"))\n",
    "    blobContainer = serviceClient.get_container_client(os.getenv(\"CONTAINER_NAME\"))\n",
    "\n",
    "    bronzeLocation = os.getenv(\"BRONZE_LOCATION\")\n",
    "    silverFileOutput = os.getenv(\"SILVER_OUTPUT\")\n",
    "    print(bronzeLocation)\n",
    "    for blob in blob_container.list_blobs(name_starts_with=f\"{bronzeLocation}\"):\n",
    "        print(blob.name)\n",
    "        blob_client = blobContainer.get_blob_client(blob.name)\n",
    "        content = blob_client.download_blob().readall().decode('utf-8')\n",
    "\n",
    "        file = pd.read_csv(StringIO(content))\n",
    "        final = clean_and_add_features(file, os.path.basename(blob.name).replace('.csv',''))\n",
    "\n",
    "\n",
    "        #upload_silver_to_blob(final, serviceClient, blobContainer, f\"{silverFileOutput}silver_output.csv\")"
   ]
  },
  {
   "cell_type": "code",
   "execution_count": 21,
   "id": "71b31ec0",
   "metadata": {},
   "outputs": [
    {
     "name": "stdout",
     "output_type": "stream",
     "text": [
      "Starting main...\n",
      "bronze/\n",
      "bronze/bdo.csv\n"
     ]
    },
    {
     "ename": "NameError",
     "evalue": "name 'format_to_decimal' is not defined",
     "output_type": "error",
     "traceback": [
      "\u001b[31m---------------------------------------------------------------------------\u001b[39m",
      "\u001b[31mNameError\u001b[39m                                 Traceback (most recent call last)",
      "\u001b[36mCell\u001b[39m\u001b[36m \u001b[39m\u001b[32mIn[21]\u001b[39m\u001b[32m, line 1\u001b[39m\n\u001b[32m----> \u001b[39m\u001b[32m1\u001b[39m \u001b[43mmain\u001b[49m\u001b[43m(\u001b[49m\u001b[43m)\u001b[49m\n",
      "\u001b[36mCell\u001b[39m\u001b[36m \u001b[39m\u001b[32mIn[20]\u001b[39m\u001b[32m, line 17\u001b[39m, in \u001b[36mmain\u001b[39m\u001b[34m()\u001b[39m\n\u001b[32m     14\u001b[39m content = blob_client.download_blob().readall().decode(\u001b[33m'\u001b[39m\u001b[33mutf-8\u001b[39m\u001b[33m'\u001b[39m)\n\u001b[32m     16\u001b[39m file = pd.read_csv(StringIO(content))\n\u001b[32m---> \u001b[39m\u001b[32m17\u001b[39m final = \u001b[43mclean_and_add_features\u001b[49m\u001b[43m(\u001b[49m\u001b[43mfile\u001b[49m\u001b[43m,\u001b[49m\u001b[43m \u001b[49m\u001b[43mos\u001b[49m\u001b[43m.\u001b[49m\u001b[43mpath\u001b[49m\u001b[43m.\u001b[49m\u001b[43mbasename\u001b[49m\u001b[43m(\u001b[49m\u001b[43mblob\u001b[49m\u001b[43m.\u001b[49m\u001b[43mname\u001b[49m\u001b[43m)\u001b[49m\u001b[43m.\u001b[49m\u001b[43mreplace\u001b[49m\u001b[43m(\u001b[49m\u001b[33;43m'\u001b[39;49m\u001b[33;43m.csv\u001b[39;49m\u001b[33;43m'\u001b[39;49m\u001b[43m,\u001b[49m\u001b[33;43m'\u001b[39;49m\u001b[33;43m'\u001b[39;49m\u001b[43m)\u001b[49m\u001b[43m)\u001b[49m\n",
      "\u001b[36mCell\u001b[39m\u001b[36m \u001b[39m\u001b[32mIn[18]\u001b[39m\u001b[32m, line 7\u001b[39m, in \u001b[36mclean_and_add_features\u001b[39m\u001b[34m(df, source)\u001b[39m\n\u001b[32m      4\u001b[39m df[\u001b[33m\"\u001b[39m\u001b[33mVolume\u001b[39m\u001b[33m\"\u001b[39m] = df[\u001b[33m\"\u001b[39m\u001b[33mVolume\u001b[39m\u001b[33m\"\u001b[39m].str.replace(\u001b[33m'\u001b[39m\u001b[33m,\u001b[39m\u001b[33m'\u001b[39m,\u001b[33m'\u001b[39m\u001b[33m'\u001b[39m).replace(\u001b[33m\"\u001b[39m\u001b[33m'\u001b[39m\u001b[33m\"\u001b[39m,\u001b[33m\"\u001b[39m\u001b[33m\"\u001b[39m).replace(\u001b[33m\"\u001b[39m\u001b[33m.\u001b[39m\u001b[33m\"\u001b[39m,\u001b[33m\"\u001b[39m\u001b[33m\"\u001b[39m).astype(\u001b[38;5;28mint\u001b[39m)\n\u001b[32m      5\u001b[39m df[\u001b[33m\"\u001b[39m\u001b[33mDate\u001b[39m\u001b[33m\"\u001b[39m] = pd.to_datetime(df[\u001b[33m\"\u001b[39m\u001b[33mDate\u001b[39m\u001b[33m\"\u001b[39m], \u001b[38;5;28mformat\u001b[39m=\u001b[33m'\u001b[39m\u001b[33m%\u001b[39m\u001b[33mm/\u001b[39m\u001b[38;5;132;01m%d\u001b[39;00m\u001b[33m/\u001b[39m\u001b[33m%\u001b[39m\u001b[33mY\u001b[39m\u001b[33m'\u001b[39m)\n\u001b[32m----> \u001b[39m\u001b[32m7\u001b[39m df[\u001b[33m\"\u001b[39m\u001b[33mOpen\u001b[39m\u001b[33m\"\u001b[39m] = df[\u001b[33m\"\u001b[39m\u001b[33mOpen\u001b[39m\u001b[33m\"\u001b[39m].apply(\u001b[43mformat_to_decimal\u001b[49m)\n\u001b[32m      8\u001b[39m df[\u001b[33m\"\u001b[39m\u001b[33mHigh\u001b[39m\u001b[33m\"\u001b[39m] = df[\u001b[33m\"\u001b[39m\u001b[33mHigh\u001b[39m\u001b[33m\"\u001b[39m].apply(format_to_decimal)\n\u001b[32m      9\u001b[39m df[\u001b[33m\"\u001b[39m\u001b[33mClose\u001b[39m\u001b[33m\"\u001b[39m] = df[\u001b[33m\"\u001b[39m\u001b[33mClose\u001b[39m\u001b[33m\"\u001b[39m].apply(format_to_decimal)\n",
      "\u001b[31mNameError\u001b[39m: name 'format_to_decimal' is not defined"
     ]
    }
   ],
   "source": [
    "main()"
   ]
  },
  {
   "cell_type": "code",
   "execution_count": 16,
   "id": "16ebb5ab",
   "metadata": {},
   "outputs": [
    {
     "ename": "NameError",
     "evalue": "name 'final' is not defined",
     "output_type": "error",
     "traceback": [
      "\u001b[31m---------------------------------------------------------------------------\u001b[39m",
      "\u001b[31mNameError\u001b[39m                                 Traceback (most recent call last)",
      "\u001b[36mCell\u001b[39m\u001b[36m \u001b[39m\u001b[32mIn[16]\u001b[39m\u001b[32m, line 1\u001b[39m\n\u001b[32m----> \u001b[39m\u001b[32m1\u001b[39m \u001b[43mfinal\u001b[49m\n",
      "\u001b[31mNameError\u001b[39m: name 'final' is not defined"
     ]
    }
   ],
   "source": [
    "final"
   ]
  },
  {
   "cell_type": "code",
   "execution_count": 17,
   "id": "2f1d8d39",
   "metadata": {},
   "outputs": [
    {
     "ename": "NameError",
     "evalue": "name 'file' is not defined",
     "output_type": "error",
     "traceback": [
      "\u001b[31m---------------------------------------------------------------------------\u001b[39m",
      "\u001b[31mNameError\u001b[39m                                 Traceback (most recent call last)",
      "\u001b[36mCell\u001b[39m\u001b[36m \u001b[39m\u001b[32mIn[17]\u001b[39m\u001b[32m, line 1\u001b[39m\n\u001b[32m----> \u001b[39m\u001b[32m1\u001b[39m \u001b[43mfile\u001b[49m\n",
      "\u001b[31mNameError\u001b[39m: name 'file' is not defined"
     ]
    }
   ],
   "source": [
    "file"
   ]
  },
  {
   "cell_type": "code",
   "execution_count": null,
   "id": "0bcbd2a8",
   "metadata": {},
   "outputs": [],
   "source": []
  }
 ],
 "metadata": {
  "kernelspec": {
   "display_name": "venv (3.11.4)",
   "language": "python",
   "name": "python3"
  },
  "language_info": {
   "codemirror_mode": {
    "name": "ipython",
    "version": 3
   },
   "file_extension": ".py",
   "mimetype": "text/x-python",
   "name": "python",
   "nbconvert_exporter": "python",
   "pygments_lexer": "ipython3",
   "version": "3.11.4"
  }
 },
 "nbformat": 4,
 "nbformat_minor": 5
}
