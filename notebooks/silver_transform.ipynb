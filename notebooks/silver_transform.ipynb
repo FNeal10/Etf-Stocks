{
 "cells": [
  {
   "cell_type": "code",
   "execution_count": 9,
   "id": "26afa26b",
   "metadata": {},
   "outputs": [],
   "source": [
    "import os\n",
    "import pandas as pd"
   ]
  },
  {
   "cell_type": "code",
   "execution_count": 10,
   "id": "6b01c49d",
   "metadata": {},
   "outputs": [],
   "source": [
    "from io import StringIO\n",
    "from dotenv import load_dotenv\n",
    "from azure.storage.blob import BlobServiceClient"
   ]
  },
  {
   "cell_type": "code",
   "execution_count": 11,
   "id": "5712983c",
   "metadata": {},
   "outputs": [
    {
     "name": "stdout",
     "output_type": "stream",
     "text": [
      "Data loaded and transformed successfully.\n"
     ]
    }
   ],
   "source": [
    "print(\"Data loaded and transformed successfully.\")"
   ]
  },
  {
   "cell_type": "code",
   "execution_count": 3,
   "id": "01f3a89a",
   "metadata": {},
   "outputs": [],
   "source": [
    "service_client = BlobServiceClient.from_connection_string(os.getenv(\"AZURE_CONNECTION_STRING\"))\n",
    "container = service_client.get_container_client(os.getenv(\"CONTAINER_NAME\"))"
   ]
  },
  {
   "cell_type": "code",
   "execution_count": 4,
   "id": "62dcf688",
   "metadata": {},
   "outputs": [],
   "source": [
    "def clean_add_features(df: pd.DataFrame, source: str):\n",
    "\n",
    "    df.insert(0, \"Source\", source)\n",
    "    df[\"Volume\"] = df[\"Volume\"].str.replace(',','').astype(int)\n",
    "    df[\"Date\"] = pd.to_datetime(df[\"Date\"], format='%m/%d/%Y')\n",
    "\n",
    "    # Dates\n",
    "    df[\"Month\"] = df[\"Date\"].dt.month\n",
    "    df[\"Day\"] = df[\"Date\"].dt.day\n",
    "    df[\"Year\"] = df[\"Date\"].dt.year\n",
    "    df[\"DayOfWeek\"] = df[\"Date\"].dt.dayofweek\n",
    "\n",
    "    df[\"MA_5\"] = df[\"Close\"].rolling(5).mean()\n",
    "    df[\"MA_20\"] = df[\"Close\"].rolling(20).mean()\n",
    "    df[\"EMA_5\"] = df[\"Close\"].ewm(span=5, adjust=False).mean()\n",
    "    df[\"EMA_20\"] = df[\"Close\"].ewm(span=20, adjust=False).mean()\n",
    "    df[\"STD_5\"] = df[\"Close\"].rolling(5).mean()\n",
    "    df[\"STD_20\"] = df[\"Close\"].rolling(20).mean()\n",
    "\n",
    "    df[\"DailyReturn\"] = df[\"Close\"].pct_change()\n",
    "    df[\"Volatility\"] = df[\"DailyReturn\"].rolling(20).std()\n",
    "    df[\"PriceChange\"] = df[\"Close\"] - df[\"Open\"]\n",
    " \n",
    "    return df"
   ]
  },
  {
   "cell_type": "code",
   "execution_count": 19,
   "id": "0af2f07c",
   "metadata": {},
   "outputs": [],
   "source": [
    "def save_silver(df, blob_name=\"silver_output.csv\"):\n",
    "    csv_buffer = StringIO()\n",
    "    df.to_csv(csv_buffer, index=False)\n",
    "    csv_buffer.seek(0)\n",
    "\n",
    "    blob_service_client = BlobServiceClient.from_connection_string(os.getenv(\"AZURE_CONNECTION_STRING\"))\n",
    "    blob_client = blob_service_client.get_blob_client(container=\"data-container\", blob=blob_name)\n",
    "\n",
    "    blob_client.upload_blob(csv_buffer.getvalue(), overwrite=True)\n"
   ]
  },
  {
   "cell_type": "code",
   "execution_count": null,
   "id": "a60e4d79",
   "metadata": {},
   "outputs": [],
   "source": [
    "for blob in container.list_blobs(name_starts_with=\"bronze/bdo.csv\"):\n",
    "    if blob.name.endswith('.csv'):\n",
    "        blob_client = container.get_blob_client(blob.name)\n",
    "        content = blob_client.download_blob().readall().decode('utf-8')\n",
    "\n",
    "        file = pd.read_csv(StringIO(content))\n",
    "        final = clean_add_features(file, os.path.basename(blob.name).replace('.csv',''))\n",
    "\n",
    "\n",
    "save_silver(final)"
   ]
  },
  {
   "cell_type": "code",
   "execution_count": null,
   "id": "ecab1d64",
   "metadata": {},
   "outputs": [],
   "source": []
  }
 ],
 "metadata": {
  "kernelspec": {
   "display_name": "venv",
   "language": "python",
   "name": "python3"
  },
  "language_info": {
   "codemirror_mode": {
    "name": "ipython",
    "version": 3
   },
   "file_extension": ".py",
   "mimetype": "text/x-python",
   "name": "python",
   "nbconvert_exporter": "python",
   "pygments_lexer": "ipython3",
   "version": "3.11.9"
  }
 },
 "nbformat": 4,
 "nbformat_minor": 5
}
