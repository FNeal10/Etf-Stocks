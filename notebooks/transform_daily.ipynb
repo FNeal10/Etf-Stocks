{
 "cells": [
  {
   "cell_type": "code",
   "execution_count": 13,
   "id": "26afa26b",
   "metadata": {},
   "outputs": [],
   "source": [
    "import os\n",
    "import sys\n",
    "import pandas as pd"
   ]
  },
  {
   "cell_type": "code",
   "execution_count": 14,
   "id": "40c68221",
   "metadata": {},
   "outputs": [],
   "source": [
    "# Add project root to sys.path (adjust as needed)\n",
    "project_root = os.path.abspath(os.path.join(os.getcwd(), \"..\"))  # go up one directory\n",
    "sys.path.append(project_root)"
   ]
  },
  {
   "cell_type": "code",
   "execution_count": 15,
   "id": "6b01c49d",
   "metadata": {},
   "outputs": [],
   "source": [
    "from io import StringIO\n",
    "from dotenv import load_dotenv\n",
    "from azure.storage.blob import BlobServiceClient\n",
    "\n",
    "from src.utils.helper import format_to_decimal, check_or_create_logfile, append_to_log"
   ]
  },
  {
   "cell_type": "code",
   "execution_count": null,
   "id": "f0395628",
   "metadata": {},
   "outputs": [],
   "source": [
    "def clean_data(df):\n",
    "    df[\"Volume\"] = df[\"Volume\"].str.replace(',','').replace(\"'\",\"\").replace(\".\",\"\").astype(int)\n",
    "    df[\"Date\"] = pd.to_datetime(df[\"Date\"], format='%m/%d/%Y')\n",
    "    \n",
    "    df[\"Open\"] = df[\"Open\"].apply(format_to_decimal).astype(float)\n",
    "    df[\"High\"] = df[\"High\"].apply(format_to_decimal).astype(float)\n",
    "    df[\"Close\"] = df[\"Close\"].apply(format_to_decimal).astype(float)\n",
    "    df[\"Low\"] = df[\"Low\"].apply(format_to_decimal).astype(float)\n",
    "    return df"
   ]
  },
  {
   "cell_type": "code",
   "execution_count": 17,
   "id": "62dcf688",
   "metadata": {},
   "outputs": [],
   "source": [
    "def add_features(df: pd.DataFrame, source: str):\n",
    "\n",
    "    df.insert(0, \"Source\", source)    \n",
    "\n",
    "    # Dates\n",
    "    df[\"Month\"] = df[\"Date\"].dt.month\n",
    "    df[\"Day\"] = df[\"Date\"].dt.day\n",
    "    df[\"Year\"] = df[\"Date\"].dt.year\n",
    "    df[\"DayOfWeek\"] = df[\"Date\"].dt.dayofweek\n",
    "\n",
    "    df[\"MA_5\"] = df[\"Close\"].rolling(5).mean().apply(format_to_decimal)\n",
    "    df[\"MA_20\"] = df[\"Close\"].rolling(20).mean().apply(format_to_decimal)\n",
    "    df[\"EMA_5\"] = df[\"Close\"].ewm(span=5, adjust=False).mean().apply(format_to_decimal)\n",
    "    df[\"EMA_20\"] = df[\"Close\"].ewm(span=20, adjust=False).mean().apply(format_to_decimal)\n",
    "    df[\"STD_5\"] = df[\"Close\"].rolling(5).mean().apply(format_to_decimal)\n",
    "    df[\"STD_20\"] = df[\"Close\"].rolling(20).mean().apply(format_to_decimal)\n",
    "\n",
    "    df[\"DailyReturn\"] = df[\"Close\"].pct_change().apply(format_to_decimal)\n",
    "    df[\"Volatility\"] = df[\"DailyReturn\"].rolling(20).std().apply(format_to_decimal)\n",
    "    df[\"PriceChange\"] = (df[\"Close\"] - df[\"Open\"]).apply(format_to_decimal)\n",
    " \n",
    "    return df"
   ]
  },
  {
   "cell_type": "code",
   "execution_count": 18,
   "id": "0af2f07c",
   "metadata": {},
   "outputs": [],
   "source": [
    "def upload_silver_to_blob(df, serviceClient, containerName, blobName):\n",
    "    csv_buffer = StringIO()\n",
    "    df.to_csv(csv_buffer, index=False, encoding='utf-8', na_rep='nan')\n",
    "    csv_buffer.seek(0)\n",
    "\n",
    "    blob_client = serviceClient.get_blob_client(container=containerName, blob=blobName)\n",
    "    blob_client.upload_blob(csv_buffer.getvalue(), overwrite=True)"
   ]
  },
  {
   "cell_type": "code",
   "execution_count": 19,
   "id": "16b238fe",
   "metadata": {},
   "outputs": [],
   "source": [
    "def append_latest_to_silver(df, serviceClient, containerName, blobName):\n",
    "    try:\n",
    "        blob_client = serviceClient.get_blob_client(container=containerName, blob=blobName)\n",
    "        existing_data = blob_client.download_blob().readall().decode('utf-8')\n",
    "        existing_df = pd.read_csv(StringIO(existing_data), parse_dates=[\"Date\"], keep_default_na=True, na_values=['nan', 'NaN'])\n",
    "\n",
    "        df = pd.concat([existing_df, df], ignore_index=True)\n",
    "        df =df.replace('',pd.NA)\n",
    "        #test=df\n",
    "    except Exception as e:\n",
    "        print(f\"Error reading existing data: {e}\")\n",
    "\n",
    "    upload_silver_to_blob(df, serviceClient, containerName, blobName)"
   ]
  },
  {
   "cell_type": "code",
   "execution_count": 24,
   "id": "a60e4d79",
   "metadata": {},
   "outputs": [],
   "source": [
    "def main():\n",
    "    \n",
    "    load_dotenv()\n",
    "\n",
    "    combinedData = pd.DataFrame() # STAGING DATAFAME TO HANDLE FILES\n",
    "    serviceClient = BlobServiceClient.from_connection_string(os.getenv(\"AZURE_CONNECTION_STRING\"))\n",
    "    blobContainer = serviceClient.get_container_client(os.getenv(\"CONTAINER_NAME\"))\n",
    "\n",
    "    bronzeLocation = os.getenv(\"BRONZE_LOCATION\")\n",
    "    silverFile = os.getenv(\"SILVER_LOCATION\")\n",
    "   \n",
    "    for blob in blobContainer.list_blobs(name_starts_with=f\"{bronzeLocation}\"):\n",
    "        \n",
    "        blob_client = blobContainer.get_blob_client(blob.name)\n",
    "        stockPrices = blob_client.download_blob().readall().decode('utf-8')\n",
    "\n",
    "        data = pd.read_csv(StringIO(stockPrices), keep_default_na=True, parse_dates=[\"Date\"])\n",
    "        \n",
    "        data = data.head(1)\n",
    "        data = clean_data(data)\n",
    "        data = add_features(data, os.path.basename(blob.name).replace('.csv',''))\n",
    "\n",
    "        \n",
    "\n",
    "        combinedData = pd.concat([combinedData, data], ignore_index=True)\n",
    "    \n",
    "    # Uncomment the next line and comment append_latest_to_silver for initial upload to Azure Blob Storage\n",
    "    upload_silver_to_blob(combinedData, serviceClient, os.getenv(\"CONTAINER_NAME\"), f\"{silverFile}silver_output.csv\")\n",
    "    #append_latest_to_silver(combinedData, serviceClient, os.getenv(\"CONTAINER_NAME\"), f\"{silverFile}silver_output.csv\")\n",
    "    return combinedData, data"
   ]
  },
  {
   "cell_type": "code",
   "execution_count": 25,
   "id": "94ddd98c",
   "metadata": {},
   "outputs": [
    {
     "data": {
      "text/plain": [
       "(  Source       Date  Open     High      Low    Close    Volume  Month  Day  \\\n",
       " 0    bdo 2025-08-05   678   144.90   142.60   143.00   1638980      8    5   \n",
       " 1  creit 2025-08-05   678     3.70     3.67     3.68   1121000      8    5   \n",
       " 2  globe 2025-08-05   678  1740.00  1705.00  1710.00     85700      8    5   \n",
       " 3  mreit 2025-08-05   678    14.50    14.00    14.38   1392700      8    5   \n",
       " 4    rcr 2025-08-05   678     8.02     7.80     7.78  18777700      8    5   \n",
       " \n",
       "    Year  DayOfWeek MA_5 MA_20    EMA_5   EMA_20 STD_5 STD_20 DailyReturn  \\\n",
       " 0  2025          1  nan   nan   143.00   143.00   nan    nan         nan   \n",
       " 1  2025          1  nan   nan     3.68     3.68   nan    nan         nan   \n",
       " 2  2025          1  nan   nan  1710.00  1710.00   nan    nan         nan   \n",
       " 3  2025          1  nan   nan    14.38    14.38   nan    nan         nan   \n",
       " 4  2025          1  nan   nan     7.78     7.78   nan    nan         nan   \n",
       " \n",
       "   Volatility PriceChange  \n",
       " 0        nan     -535.00  \n",
       " 1        nan     -674.32  \n",
       " 2        nan     1032.00  \n",
       " 3        nan     -663.62  \n",
       " 4        nan     -670.22  ,\n",
       "   Source       Date  Open  High  Low  Close    Volume  Month  Day  Year  \\\n",
       " 0    rcr 2025-08-05   678  8.02  7.8   7.78  18777700      8    5  2025   \n",
       " \n",
       "    DayOfWeek MA_5 MA_20 EMA_5 EMA_20 STD_5 STD_20 DailyReturn Volatility  \\\n",
       " 0          1  nan   nan  7.78   7.78   nan    nan         nan        nan   \n",
       " \n",
       "   PriceChange  \n",
       " 0     -670.22  )"
      ]
     },
     "execution_count": 25,
     "metadata": {},
     "output_type": "execute_result"
    }
   ],
   "source": [
    "s = main()\n",
    "s"
   ]
  },
  {
   "cell_type": "code",
   "execution_count": null,
   "id": "de4aa9b7",
   "metadata": {},
   "outputs": [],
   "source": []
  }
 ],
 "metadata": {
  "kernelspec": {
   "display_name": "venv",
   "language": "python",
   "name": "python3"
  },
  "language_info": {
   "codemirror_mode": {
    "name": "ipython",
    "version": 3
   },
   "file_extension": ".py",
   "mimetype": "text/x-python",
   "name": "python",
   "nbconvert_exporter": "python",
   "pygments_lexer": "ipython3",
   "version": "3.11.9"
  }
 },
 "nbformat": 4,
 "nbformat_minor": 5
}
